{
 "cells": [
  {
   "cell_type": "code",
   "execution_count": 43,
   "metadata": {},
   "outputs": [],
   "source": [
    "import pandas as pd\n",
    "import os"
   ]
  },
  {
   "cell_type": "code",
   "execution_count": 44,
   "metadata": {},
   "outputs": [
    {
     "data": {
      "text/html": [
       "<div>\n",
       "<style scoped>\n",
       "    .dataframe tbody tr th:only-of-type {\n",
       "        vertical-align: middle;\n",
       "    }\n",
       "\n",
       "    .dataframe tbody tr th {\n",
       "        vertical-align: top;\n",
       "    }\n",
       "\n",
       "    .dataframe thead th {\n",
       "        text-align: right;\n",
       "    }\n",
       "</style>\n",
       "<table border=\"1\" class=\"dataframe\">\n",
       "  <thead>\n",
       "    <tr style=\"text-align: right;\">\n",
       "      <th></th>\n",
       "      <th>Father</th>\n",
       "      <th>Son</th>\n",
       "      <th>Father_Id</th>\n",
       "      <th>Son_Id</th>\n",
       "      <th>SKIP_GENERATION</th>\n",
       "    </tr>\n",
       "  </thead>\n",
       "  <tbody>\n",
       "    <tr>\n",
       "      <th>122</th>\n",
       "      <td>Buz</td>\n",
       "      <td>Aws</td>\n",
       "      <td>122</td>\n",
       "      <td>123</td>\n",
       "      <td>NaN</td>\n",
       "    </tr>\n",
       "    <tr>\n",
       "      <th>81</th>\n",
       "      <td>Muksar</td>\n",
       "      <td>Aiham</td>\n",
       "      <td>76</td>\n",
       "      <td>83</td>\n",
       "      <td>NaN</td>\n",
       "    </tr>\n",
       "  </tbody>\n",
       "</table>\n",
       "</div>"
      ],
      "text/plain": [
       "     Father    Son  Father_Id  Son_Id  SKIP_GENERATION\n",
       "122     Buz    Aws        122     123              NaN\n",
       "81   Muksar  Aiham         76      83              NaN"
      ]
     },
     "metadata": {},
     "output_type": "display_data"
    },
    {
     "data": {
      "text/html": [
       "<div>\n",
       "<style scoped>\n",
       "    .dataframe tbody tr th:only-of-type {\n",
       "        vertical-align: middle;\n",
       "    }\n",
       "\n",
       "    .dataframe tbody tr th {\n",
       "        vertical-align: top;\n",
       "    }\n",
       "\n",
       "    .dataframe thead th {\n",
       "        text-align: right;\n",
       "    }\n",
       "</style>\n",
       "<table border=\"1\" class=\"dataframe\">\n",
       "  <thead>\n",
       "    <tr style=\"text-align: right;\">\n",
       "      <th></th>\n",
       "      <th>Person_ID</th>\n",
       "      <th>Level</th>\n",
       "      <th>Name</th>\n",
       "      <th>Phrophet</th>\n",
       "      <th>Check</th>\n",
       "    </tr>\n",
       "  </thead>\n",
       "  <tbody>\n",
       "    <tr>\n",
       "      <th>87</th>\n",
       "      <td>87</td>\n",
       "      <td>32.0</td>\n",
       "      <td>Aisar</td>\n",
       "      <td>NaN</td>\n",
       "      <td>NaN</td>\n",
       "    </tr>\n",
       "    <tr>\n",
       "      <th>152</th>\n",
       "      <td>154</td>\n",
       "      <td>80.0</td>\n",
       "      <td>Umar</td>\n",
       "      <td>NaN</td>\n",
       "      <td>1.0</td>\n",
       "    </tr>\n",
       "  </tbody>\n",
       "</table>\n",
       "</div>"
      ],
      "text/plain": [
       "     Person_ID  Level   Name  Phrophet  Check\n",
       "87          87   32.0  Aisar       NaN    NaN\n",
       "152        154   80.0   Umar       NaN    1.0"
      ]
     },
     "metadata": {},
     "output_type": "display_data"
    }
   ],
   "source": [
    "file_name_1 = 'Father_SON_ID.csv'\n",
    "file_name_2 = 'Person_ID.csv'\n",
    "df_1 = pd.read_csv(file_name_1)\n",
    "df_2 = pd.read_csv(file_name_2)\n",
    "display(df_1.sample(2))\n",
    "display(df_2.sample(2))"
   ]
  },
  {
   "cell_type": "code",
   "execution_count": 45,
   "metadata": {},
   "outputs": [
    {
     "data": {
      "text/html": [
       "<div>\n",
       "<style scoped>\n",
       "    .dataframe tbody tr th:only-of-type {\n",
       "        vertical-align: middle;\n",
       "    }\n",
       "\n",
       "    .dataframe tbody tr th {\n",
       "        vertical-align: top;\n",
       "    }\n",
       "\n",
       "    .dataframe thead th {\n",
       "        text-align: right;\n",
       "    }\n",
       "</style>\n",
       "<table border=\"1\" class=\"dataframe\">\n",
       "  <thead>\n",
       "    <tr style=\"text-align: right;\">\n",
       "      <th></th>\n",
       "      <th>Person_ID</th>\n",
       "      <th>Level</th>\n",
       "      <th>Name</th>\n",
       "      <th>Phrophet</th>\n",
       "      <th>Check</th>\n",
       "      <th>NAME_NEW</th>\n",
       "    </tr>\n",
       "  </thead>\n",
       "  <tbody>\n",
       "    <tr>\n",
       "      <th>0</th>\n",
       "      <td>1</td>\n",
       "      <td>1</td>\n",
       "      <td>Adam</td>\n",
       "      <td>1.0</td>\n",
       "      <td>1.0</td>\n",
       "      <td>Adam_1</td>\n",
       "    </tr>\n",
       "    <tr>\n",
       "      <th>136</th>\n",
       "      <td>138</td>\n",
       "      <td>74</td>\n",
       "      <td>Ghalib</td>\n",
       "      <td>NaN</td>\n",
       "      <td>NaN</td>\n",
       "      <td>Ghalib_74</td>\n",
       "    </tr>\n",
       "  </tbody>\n",
       "</table>\n",
       "</div>"
      ],
      "text/plain": [
       "     Person_ID  Level    Name  Phrophet  Check   NAME_NEW\n",
       "0            1      1    Adam       1.0    1.0     Adam_1\n",
       "136        138     74  Ghalib       NaN    NaN  Ghalib_74"
      ]
     },
     "execution_count": 45,
     "metadata": {},
     "output_type": "execute_result"
    }
   ],
   "source": [
    "df_2['Person_ID'] = df_2['Person_ID'].fillna(9999).astype('int')\n",
    "df_2['Level'] = df_2['Level'].fillna(9999).astype('int')\n",
    "df_2['NAME_NEW'] = df_2['Name'] + '_' + df_2['Level'].astype('str')\n",
    "df_2.sample(2)"
   ]
  },
  {
   "cell_type": "code",
   "execution_count": 46,
   "metadata": {},
   "outputs": [
    {
     "data": {
      "text/html": [
       "<div>\n",
       "<style scoped>\n",
       "    .dataframe tbody tr th:only-of-type {\n",
       "        vertical-align: middle;\n",
       "    }\n",
       "\n",
       "    .dataframe tbody tr th {\n",
       "        vertical-align: top;\n",
       "    }\n",
       "\n",
       "    .dataframe thead th {\n",
       "        text-align: right;\n",
       "    }\n",
       "</style>\n",
       "<table border=\"1\" class=\"dataframe\">\n",
       "  <thead>\n",
       "    <tr style=\"text-align: right;\">\n",
       "      <th></th>\n",
       "      <th>Father</th>\n",
       "      <th>Son</th>\n",
       "      <th>Father_Id</th>\n",
       "      <th>Son_Id</th>\n",
       "      <th>SKIP_GENERATION</th>\n",
       "      <th>Father_New</th>\n",
       "      <th>Phrophet_Father</th>\n",
       "      <th>Son_New</th>\n",
       "      <th>Phrophet_Son</th>\n",
       "    </tr>\n",
       "  </thead>\n",
       "  <tbody>\n",
       "    <tr>\n",
       "      <th>57</th>\n",
       "      <td>Bares</td>\n",
       "      <td>Hasrun</td>\n",
       "      <td>53</td>\n",
       "      <td>62</td>\n",
       "      <td>NaN</td>\n",
       "      <td>Bares_24</td>\n",
       "      <td>NaN</td>\n",
       "      <td>Hasrun_25</td>\n",
       "      <td>NaN</td>\n",
       "    </tr>\n",
       "    <tr>\n",
       "      <th>26</th>\n",
       "      <td>Ubayd</td>\n",
       "      <td>Masih</td>\n",
       "      <td>25</td>\n",
       "      <td>28</td>\n",
       "      <td>1.0</td>\n",
       "      <td>Ubayd_16</td>\n",
       "      <td>NaN</td>\n",
       "      <td>Masih_17</td>\n",
       "      <td>NaN</td>\n",
       "    </tr>\n",
       "    <tr>\n",
       "      <th>34</th>\n",
       "      <td>Haran</td>\n",
       "      <td>Lut</td>\n",
       "      <td>33</td>\n",
       "      <td>38</td>\n",
       "      <td>1.0</td>\n",
       "      <td>Haran_19</td>\n",
       "      <td>NaN</td>\n",
       "      <td>Lut_20</td>\n",
       "      <td>1.0</td>\n",
       "    </tr>\n",
       "  </tbody>\n",
       "</table>\n",
       "</div>"
      ],
      "text/plain": [
       "   Father     Son  Father_Id  Son_Id  SKIP_GENERATION Father_New   \n",
       "57  Bares  Hasrun         53      62              NaN   Bares_24  \\\n",
       "26  Ubayd   Masih         25      28              1.0   Ubayd_16   \n",
       "34  Haran     Lut         33      38              1.0   Haran_19   \n",
       "\n",
       "    Phrophet_Father    Son_New  Phrophet_Son  \n",
       "57              NaN  Hasrun_25           NaN  \n",
       "26              NaN   Masih_17           NaN  \n",
       "34              NaN     Lut_20           1.0  "
      ]
     },
     "execution_count": 46,
     "metadata": {},
     "output_type": "execute_result"
    }
   ],
   "source": [
    "df_1_a = pd.merge(df_1,df_2[['Person_ID','NAME_NEW','Phrophet']],left_on='Father_Id', right_on='Person_ID').rename(columns={'NAME_NEW':'Father_New', 'Phrophet':'Phrophet_Father'}).drop('Person_ID', axis=1)\n",
    "df_1_b = pd.merge(df_1_a,df_2[['Person_ID','NAME_NEW','Phrophet']],left_on='Son_Id', right_on='Person_ID').rename(columns={'NAME_NEW':'Son_New','Phrophet':'Phrophet_Son'}).drop('Person_ID', axis=1)\n",
    "df_1_b.sample(3)"
   ]
  },
  {
   "cell_type": "code",
   "execution_count": 47,
   "metadata": {},
   "outputs": [],
   "source": [
    "from graphviz import Digraph\n",
    "\n",
    "# Create a new directed graph\n",
    "family_tree = Digraph(comment='Family Tree')\n",
    "\n",
    "for idx,a in df_2.iterrows():\n",
    "    P_FILTER = a['Phrophet']\n",
    "    if pd.isna(a['NAME_NEW']):\n",
    "        pass\n",
    "    elif pd.isna(P_FILTER):\n",
    "        family_tree.node(a['NAME_NEW'])\n",
    "    else:\n",
    "        family_tree.node(a['NAME_NEW'], color = 'green')"
   ]
  },
  {
   "cell_type": "code",
   "execution_count": 48,
   "metadata": {},
   "outputs": [],
   "source": [
    "for idx,a in df_1_b.iterrows():\n",
    "    if pd.isna(a['Father']):\n",
    "        pass\n",
    "    else:\n",
    "        father_id = str(a['Father_New'])\n",
    "        son_id = str(a['Son_New'])\n",
    "        family_tree.edge(father_id, son_id)"
   ]
  },
  {
   "cell_type": "code",
   "execution_count": 49,
   "metadata": {},
   "outputs": [
    {
     "data": {
      "text/plain": [
       "'202406_family_tree.png'"
      ]
     },
     "execution_count": 49,
     "metadata": {},
     "output_type": "execute_result"
    }
   ],
   "source": [
    "# Render and display the graph\n",
    "family_tree.render(\"202406_family_tree\", format=\"png\", cleanup=True)"
   ]
  }
 ],
 "metadata": {
  "kernelspec": {
   "display_name": "Python 3",
   "language": "python",
   "name": "python3"
  },
  "language_info": {
   "codemirror_mode": {
    "name": "ipython",
    "version": 3
   },
   "file_extension": ".py",
   "mimetype": "text/x-python",
   "name": "python",
   "nbconvert_exporter": "python",
   "pygments_lexer": "ipython3",
   "version": "3.11.4"
  }
 },
 "nbformat": 4,
 "nbformat_minor": 2
}
