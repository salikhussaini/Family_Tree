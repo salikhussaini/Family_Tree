{
 "cells": [
  {
   "cell_type": "code",
   "execution_count": 87,
   "metadata": {},
   "outputs": [],
   "source": [
    "import pandas as pd\n",
    "import os"
   ]
  },
  {
   "cell_type": "code",
   "execution_count": 88,
   "metadata": {},
   "outputs": [
    {
     "data": {
      "text/html": [
       "<div>\n",
       "<style scoped>\n",
       "    .dataframe tbody tr th:only-of-type {\n",
       "        vertical-align: middle;\n",
       "    }\n",
       "\n",
       "    .dataframe tbody tr th {\n",
       "        vertical-align: top;\n",
       "    }\n",
       "\n",
       "    .dataframe thead th {\n",
       "        text-align: right;\n",
       "    }\n",
       "</style>\n",
       "<table border=\"1\" class=\"dataframe\">\n",
       "  <thead>\n",
       "    <tr style=\"text-align: right;\">\n",
       "      <th></th>\n",
       "      <th>Father</th>\n",
       "      <th>Son</th>\n",
       "      <th>Father_Id</th>\n",
       "      <th>Son_Id</th>\n",
       "      <th>SKIP_GENERATION</th>\n",
       "    </tr>\n",
       "  </thead>\n",
       "  <tbody>\n",
       "    <tr>\n",
       "      <th>19</th>\n",
       "      <td>Aush</td>\n",
       "      <td>Ad</td>\n",
       "      <td>17</td>\n",
       "      <td>20.0</td>\n",
       "      <td>1.0</td>\n",
       "    </tr>\n",
       "    <tr>\n",
       "      <th>59</th>\n",
       "      <td>Imran</td>\n",
       "      <td>Musa</td>\n",
       "      <td>60</td>\n",
       "      <td>65.0</td>\n",
       "      <td>NaN</td>\n",
       "    </tr>\n",
       "  </tbody>\n",
       "</table>\n",
       "</div>"
      ],
      "text/plain": [
       "   Father   Son  Father_Id  Son_Id  SKIP_GENERATION\n",
       "19   Aush    Ad         17    20.0              1.0\n",
       "59  Imran  Musa         60    65.0              NaN"
      ]
     },
     "metadata": {},
     "output_type": "display_data"
    },
    {
     "data": {
      "text/html": [
       "<div>\n",
       "<style scoped>\n",
       "    .dataframe tbody tr th:only-of-type {\n",
       "        vertical-align: middle;\n",
       "    }\n",
       "\n",
       "    .dataframe tbody tr th {\n",
       "        vertical-align: top;\n",
       "    }\n",
       "\n",
       "    .dataframe thead th {\n",
       "        text-align: right;\n",
       "    }\n",
       "</style>\n",
       "<table border=\"1\" class=\"dataframe\">\n",
       "  <thead>\n",
       "    <tr style=\"text-align: right;\">\n",
       "      <th></th>\n",
       "      <th>Person_ID</th>\n",
       "      <th>Level</th>\n",
       "      <th>Name</th>\n",
       "      <th>Phrophet</th>\n",
       "      <th>Check</th>\n",
       "    </tr>\n",
       "  </thead>\n",
       "  <tbody>\n",
       "    <tr>\n",
       "      <th>82</th>\n",
       "      <td>83</td>\n",
       "      <td>30</td>\n",
       "      <td>Aiham</td>\n",
       "      <td>NaN</td>\n",
       "      <td>NaN</td>\n",
       "    </tr>\n",
       "    <tr>\n",
       "      <th>152</th>\n",
       "      <td>155</td>\n",
       "      <td>80</td>\n",
       "      <td>Ka'b</td>\n",
       "      <td>NaN</td>\n",
       "      <td>NaN</td>\n",
       "    </tr>\n",
       "  </tbody>\n",
       "</table>\n",
       "</div>"
      ],
      "text/plain": [
       "     Person_ID  Level   Name  Phrophet  Check\n",
       "82          83     30  Aiham       NaN    NaN\n",
       "152        155     80   Ka'b       NaN    NaN"
      ]
     },
     "metadata": {},
     "output_type": "display_data"
    }
   ],
   "source": [
    "file_name_1 = 'Father_SON_ID.csv'\n",
    "file_name_2 = 'Person_ID.csv'\n",
    "df_1 = pd.read_csv(file_name_1)\n",
    "df_2 = pd.read_csv(file_name_2)\n",
    "display(df_1.sample(2))\n",
    "display(df_2.sample(2))"
   ]
  },
  {
   "cell_type": "code",
   "execution_count": 89,
   "metadata": {},
   "outputs": [
    {
     "data": {
      "text/html": [
       "<div>\n",
       "<style scoped>\n",
       "    .dataframe tbody tr th:only-of-type {\n",
       "        vertical-align: middle;\n",
       "    }\n",
       "\n",
       "    .dataframe tbody tr th {\n",
       "        vertical-align: top;\n",
       "    }\n",
       "\n",
       "    .dataframe thead th {\n",
       "        text-align: right;\n",
       "    }\n",
       "</style>\n",
       "<table border=\"1\" class=\"dataframe\">\n",
       "  <thead>\n",
       "    <tr style=\"text-align: right;\">\n",
       "      <th></th>\n",
       "      <th>Person_ID</th>\n",
       "      <th>Level</th>\n",
       "      <th>Name</th>\n",
       "      <th>Phrophet</th>\n",
       "      <th>Check</th>\n",
       "      <th>NAME_NEW</th>\n",
       "    </tr>\n",
       "  </thead>\n",
       "  <tbody>\n",
       "    <tr>\n",
       "      <th>2</th>\n",
       "      <td>3</td>\n",
       "      <td>3</td>\n",
       "      <td>Anwas</td>\n",
       "      <td>NaN</td>\n",
       "      <td>1.0</td>\n",
       "      <td>Anwas_3</td>\n",
       "    </tr>\n",
       "    <tr>\n",
       "      <th>96</th>\n",
       "      <td>97</td>\n",
       "      <td>37</td>\n",
       "      <td>Yahzin</td>\n",
       "      <td>NaN</td>\n",
       "      <td>NaN</td>\n",
       "      <td>Yahzin_37</td>\n",
       "    </tr>\n",
       "  </tbody>\n",
       "</table>\n",
       "</div>"
      ],
      "text/plain": [
       "    Person_ID  Level    Name  Phrophet  Check   NAME_NEW\n",
       "2           3      3   Anwas       NaN    1.0    Anwas_3\n",
       "96         97     37  Yahzin       NaN    NaN  Yahzin_37"
      ]
     },
     "execution_count": 89,
     "metadata": {},
     "output_type": "execute_result"
    }
   ],
   "source": [
    "df_2['Person_ID'] = df_2['Person_ID'].fillna(9999).astype('int')\n",
    "df_2['Level'] = df_2['Level'].fillna(9999).astype('int')\n",
    "df_2['NAME_NEW'] = df_2['Name'] + '_' + df_2['Level'].astype('str')\n",
    "df_2.sample(2)"
   ]
  },
  {
   "cell_type": "code",
   "execution_count": 90,
   "metadata": {},
   "outputs": [
    {
     "data": {
      "text/html": [
       "<div>\n",
       "<style scoped>\n",
       "    .dataframe tbody tr th:only-of-type {\n",
       "        vertical-align: middle;\n",
       "    }\n",
       "\n",
       "    .dataframe tbody tr th {\n",
       "        vertical-align: top;\n",
       "    }\n",
       "\n",
       "    .dataframe thead th {\n",
       "        text-align: right;\n",
       "    }\n",
       "</style>\n",
       "<table border=\"1\" class=\"dataframe\">\n",
       "  <thead>\n",
       "    <tr style=\"text-align: right;\">\n",
       "      <th></th>\n",
       "      <th>Father</th>\n",
       "      <th>Son</th>\n",
       "      <th>Father_Id</th>\n",
       "      <th>Son_Id</th>\n",
       "      <th>SKIP_GENERATION</th>\n",
       "      <th>Father_New</th>\n",
       "      <th>Phrophet_Father</th>\n",
       "      <th>Son_New</th>\n",
       "      <th>Phrophet_Son</th>\n",
       "    </tr>\n",
       "  </thead>\n",
       "  <tbody>\n",
       "    <tr>\n",
       "      <th>110</th>\n",
       "      <td>Makhi</td>\n",
       "      <td>Nahish</td>\n",
       "      <td>111</td>\n",
       "      <td>112.0</td>\n",
       "      <td>NaN</td>\n",
       "      <td>Makhi_47</td>\n",
       "      <td>NaN</td>\n",
       "      <td>Nahish_48</td>\n",
       "      <td>NaN</td>\n",
       "    </tr>\n",
       "    <tr>\n",
       "      <th>48</th>\n",
       "      <td>Rum</td>\n",
       "      <td>Tarekh</td>\n",
       "      <td>48</td>\n",
       "      <td>56.0</td>\n",
       "      <td>NaN</td>\n",
       "      <td>Rum_23</td>\n",
       "      <td>NaN</td>\n",
       "      <td>Tarekh_24</td>\n",
       "      <td>NaN</td>\n",
       "    </tr>\n",
       "    <tr>\n",
       "      <th>141</th>\n",
       "      <td>Kilab</td>\n",
       "      <td>Qusai</td>\n",
       "      <td>145</td>\n",
       "      <td>151.0</td>\n",
       "      <td>NaN</td>\n",
       "      <td>Kilab_78</td>\n",
       "      <td>NaN</td>\n",
       "      <td>Qusai_79</td>\n",
       "      <td>NaN</td>\n",
       "    </tr>\n",
       "  </tbody>\n",
       "</table>\n",
       "</div>"
      ],
      "text/plain": [
       "    Father     Son  Father_Id  Son_Id  SKIP_GENERATION Father_New   \n",
       "110  Makhi  Nahish        111   112.0              NaN   Makhi_47  \\\n",
       "48     Rum  Tarekh         48    56.0              NaN     Rum_23   \n",
       "141  Kilab   Qusai        145   151.0              NaN   Kilab_78   \n",
       "\n",
       "     Phrophet_Father    Son_New  Phrophet_Son  \n",
       "110              NaN  Nahish_48           NaN  \n",
       "48               NaN  Tarekh_24           NaN  \n",
       "141              NaN   Qusai_79           NaN  "
      ]
     },
     "execution_count": 90,
     "metadata": {},
     "output_type": "execute_result"
    }
   ],
   "source": [
    "df_1_a = pd.merge(df_1,df_2[['Person_ID','NAME_NEW','Phrophet']],left_on='Father_Id', right_on='Person_ID').rename(columns={'NAME_NEW':'Father_New', 'Phrophet':'Phrophet_Father'}).drop('Person_ID', axis=1)\n",
    "df_1_b = pd.merge(df_1_a,df_2[['Person_ID','NAME_NEW','Phrophet']],left_on='Son_Id', right_on='Person_ID').rename(columns={'NAME_NEW':'Son_New','Phrophet':'Phrophet_Son'}).drop('Person_ID', axis=1)\n",
    "df_1_b.sample(3)"
   ]
  },
  {
   "cell_type": "code",
   "execution_count": 91,
   "metadata": {},
   "outputs": [],
   "source": [
    "from graphviz import Digraph\n",
    "\n",
    "# Create a new directed graph\n",
    "family_tree = Digraph(comment='Family Tree')\n",
    "\n",
    "for idx,a in df_2.iterrows():\n",
    "    P_FILTER = a['Phrophet']\n",
    "    if pd.isna(a['NAME_NEW']):\n",
    "        pass\n",
    "    elif pd.isna(P_FILTER):\n",
    "        family_tree.node(a['NAME_NEW'])\n",
    "    else:\n",
    "        family_tree.node(a['NAME_NEW'], color = 'green')"
   ]
  },
  {
   "cell_type": "code",
   "execution_count": 92,
   "metadata": {},
   "outputs": [],
   "source": [
    "for idx,a in df_1_b.iterrows():\n",
    "    if pd.isna(a['Father']):\n",
    "        pass\n",
    "    else:\n",
    "        father_id = str(a['Father_New'])\n",
    "        son_id = str(a['Son_New'])\n",
    "        family_tree.edge(father_id, son_id)"
   ]
  },
  {
   "cell_type": "code",
   "execution_count": 93,
   "metadata": {},
   "outputs": [
    {
     "data": {
      "text/plain": [
       "'202406_family_tree.png'"
      ]
     },
     "execution_count": 93,
     "metadata": {},
     "output_type": "execute_result"
    }
   ],
   "source": [
    "# Render and display the graph\n",
    "family_tree.render(\"202406_family_tree\", format=\"png\", cleanup=True)"
   ]
  }
 ],
 "metadata": {
  "kernelspec": {
   "display_name": "Python 3",
   "language": "python",
   "name": "python3"
  },
  "language_info": {
   "codemirror_mode": {
    "name": "ipython",
    "version": 3
   },
   "file_extension": ".py",
   "mimetype": "text/x-python",
   "name": "python",
   "nbconvert_exporter": "python",
   "pygments_lexer": "ipython3",
   "version": "3.11.4"
  }
 },
 "nbformat": 4,
 "nbformat_minor": 2
}
